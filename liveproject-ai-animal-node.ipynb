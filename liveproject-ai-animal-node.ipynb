{
 "cells": [
  {
   "cell_type": "code",
   "execution_count": 6,
   "id": "88fea7ab-c60f-448c-afdb-a85021939946",
   "metadata": {},
   "outputs": [],
   "source": [
    "class AnimalNode:\n",
    "    def __init__(self, question):\n",
    "        self.question = question\n",
    "        self.yes_child = None\n",
    "        self.no_child = None\n",
    "\n",
    "    # Return 'a' or 'an' as appropriate for this animal's name.\n",
    "    def article(self):\n",
    "        # Check whether the first letter is a vowel\n",
    "        if self.question[0] in ['a', 'e', 'i', 'o', 'u']:\n",
    "            return 'an'\n",
    "        else:\n",
    "            return 'a'\n",
    "\n",
    "    # Return the animal's name with an article.\n",
    "    def full_name(self):\n",
    "        return f'{self.article()} {self.question}'\n",
    "\n",
    "    # Return True if this is a leaf node (which represents an animal).\n",
    "    def is_leaf(self):\n",
    "        return (self.yes_child == None) and (self.no_child == None)\n",
    "\n",
    "    # Ask this node's question and move to the appropriate child.\n",
    "    # Return True if we keep playing.\n",
    "    def ask_question(self):\n",
    "        # If this is not a leaf node\n",
    "        if not self.is_leaf():\n",
    "            # Use Python’s input function to ask the user the node’s question and to get a response.\n",
    "            response = input(self.question)\n",
    "            # If the response is “q,” then the user wants to quit\n",
    "            if response == 'q':\n",
    "                return False\n",
    "            # If the response is “y,” call the “yes” child’s ask_question method and return whatever it returns.\n",
    "            elif response == 'y':\n",
    "                return self.yes_child.ask_question()\n",
    "            #  If the response is “n,” call the “no” child’s ask_question method and return whatever it returns.\n",
    "            elif response == 'n':\n",
    "                return self.no_child.ask_question()\n",
    "\n",
    "        #  Otherwise the node is a leaf\n",
    "        else:\n",
    "            # Use Python’s input function to ask the user if this is the correct animal.\n",
    "            response = input(f'is it {self.full_name()}? ')\n",
    "\n",
    "            # If the user answers “q” to quit, return False.\n",
    "            if response == 'q':\n",
    "                return False\n",
    "            # If the user answers “y,” then we have found the animal so print a success message.\n",
    "            elif response == 'y':\n",
    "                print('I won')\n",
    "            # If the user answers “n”, then we guessed wrong and we need to update the knowledgebase so do the following.\n",
    "            elif response == 'n':\n",
    "                print('Bummer, I lost')\n",
    "                new_animal = AnimalNode(input('What was your animal? '))\n",
    "                old_animal = AnimalNode(self.question)\n",
    "                print(f'What question can I ask to differentiate {old_animal.full_name()} and {new_animal.full_name()}?')\n",
    "                self.question = input()\n",
    "                new_response = input(f'What is the correct answer for {new_animal.full_name()}?')\n",
    "                if new_response == 'y':\n",
    "                    self.no_child = old_animal\n",
    "                    self.yes_child = new_animal\n",
    "                else:\n",
    "                    self.no_child = new_animal\n",
    "                    self.yes_child = old_animal\n",
    "\n",
    "            return input('Play again? ') == 'y'"
   ]
  },
  {
   "cell_type": "code",
   "execution_count": 7,
   "id": "187d9ef2-bb17-4f48-8ae9-d586087fae42",
   "metadata": {},
   "outputs": [],
   "source": [
    "def play_game():\n",
    "    # Initialize the tree.\n",
    "    root = AnimalNode('platypus')\n",
    "\n",
    "    # Display instructions.\n",
    "    print('Answer y for Yes, n for No, and q for Quit\\n')\n",
    "\n",
    "    # Repeat until the user quits.\n",
    "    while root.ask_question():\n",
    "        pass"
   ]
  },
  {
   "cell_type": "code",
   "execution_count": null,
   "id": "adb64853-603b-4b85-9ebf-53678eb2fc1b",
   "metadata": {},
   "outputs": [],
   "source": [
    "play_game()"
   ]
  },
  {
   "cell_type": "code",
   "execution_count": null,
   "id": "28ab8f7b-b84a-4b98-8bb1-f8cf54027c50",
   "metadata": {},
   "outputs": [],
   "source": []
  }
 ],
 "metadata": {
  "kernelspec": {
   "display_name": "Python 3 (ipykernel)",
   "language": "python",
   "name": "python3"
  },
  "language_info": {
   "codemirror_mode": {
    "name": "ipython",
    "version": 3
   },
   "file_extension": ".py",
   "mimetype": "text/x-python",
   "name": "python",
   "nbconvert_exporter": "python",
   "pygments_lexer": "ipython3",
   "version": "3.12.0"
  }
 },
 "nbformat": 4,
 "nbformat_minor": 5
}
